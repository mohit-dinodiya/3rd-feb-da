{
 "cells": [
  {
   "cell_type": "markdown",
   "id": "bbdb1b4d-888b-4f73-a975-89db6100c04c",
   "metadata": {},
   "source": [
    "# Ques1"
   ]
  },
  {
   "cell_type": "markdown",
   "id": "412b0997-2df0-4f17-b5df-ae9e9c8ade95",
   "metadata": {},
   "source": [
    "#### which keyword is used to create a function?create a function to return a list of odd numbers in the range of 1to25?"
   ]
  },
  {
   "cell_type": "markdown",
   "id": "f38b1000-f8fe-42f8-9289-39f270797ae1",
   "metadata": {},
   "source": [
    "###### def keyword is used to create a function."
   ]
  },
  {
   "cell_type": "code",
   "execution_count": 9,
   "id": "91d92b62-154e-4ec2-9c35-f61bd92ad50e",
   "metadata": {},
   "outputs": [],
   "source": [
    "def odd_function():\n",
    "    result = []\n",
    "    for i in range(1,26):\n",
    "        if i % 2 != 0:\n",
    "            result.append(i)\n",
    "            \n",
    "    return result\n",
    "            \n",
    "        \n",
    "        \n",
    "    \n",
    "    \n",
    "\n",
    "    "
   ]
  },
  {
   "cell_type": "code",
   "execution_count": 10,
   "id": "8ef8b6e1-17af-4e6d-a7a5-7f51f927847a",
   "metadata": {},
   "outputs": [
    {
     "name": "stdout",
     "output_type": "stream",
     "text": [
      "[1, 3, 5, 7, 9, 11, 13, 15, 17, 19, 21, 23, 25]\n"
     ]
    }
   ],
   "source": [
    "result = odd_function()\n",
    "print (result)"
   ]
  },
  {
   "cell_type": "markdown",
   "id": "acdfdf97-942d-49fa-affa-4ac81a515d77",
   "metadata": {},
   "source": [
    "# why *args and **kwargs are used in some function?create a function each for *args and **kwargs for demonstrate their use?\n",
    "\n",
    "### while passing argument for function if we use *args in argument we can pass n number of data to function.\n",
    "### and **kwargs is used for passing n number of key and value pairs in the function.it will be in dictionryies format.\n"
   ]
  },
  {
   "cell_type": "code",
   "execution_count": 13,
   "id": "9edcda01-8fa9-4c92-ba86-09707bac11e6",
   "metadata": {},
   "outputs": [
    {
     "name": "stdout",
     "output_type": "stream",
     "text": [
      "28\n"
     ]
    }
   ],
   "source": [
    "def sum(*args):\n",
    "    result = 0\n",
    "    for i in args:\n",
    "        result += i\n",
    "    return result\n",
    "result = sum(1,2,3,4,5,6,7)\n",
    "print (result)"
   ]
  },
  {
   "cell_type": "code",
   "execution_count": 14,
   "id": "c16c20f0-6491-4a54-b2c8-e7c13d1241d3",
   "metadata": {},
   "outputs": [],
   "source": [
    "def fun1(**kwargs):\n",
    "    return kwargs"
   ]
  },
  {
   "cell_type": "code",
   "execution_count": 16,
   "id": "32ece55a-5c80-4f1a-b402-2d77598b05ee",
   "metadata": {},
   "outputs": [
    {
     "data": {
      "text/plain": [
       "{'name': 'mohit', 'occupation': 'job', 'city': 'bikaner'}"
      ]
     },
     "execution_count": 16,
     "metadata": {},
     "output_type": "execute_result"
    }
   ],
   "source": [
    "fun1( name = \"mohit\", occupation = \"job\",city = \"bikaner\")"
   ]
  },
  {
   "cell_type": "markdown",
   "id": "101adf89-2246-4a1e-a39f-7be4b897c0b3",
   "metadata": {},
   "source": [
    "# Q3. What is an iterator in python? Name the method used to initialise the iterator object and the method used for iteration. Use these methods to print the first five elements of the given list [2, 4, 6, 8, 10, 12, 14, 16,\n",
    "18, 20]."
   ]
  },
  {
   "cell_type": "markdown",
   "id": "1615544d-1073-4a2d-89d0-d8d3a053ab61",
   "metadata": {},
   "source": [
    "An iterator in Python is an object that allows you to iterate (loop) over a collection of values, such as a list, tuple, or dictionary. The iterator maintains an internal state and knows how to return the next value in the sequence.\n",
    "\n",
    "To initialize an iterator object, you can use the iter() method. This method takes an iterable as an argument and returns an iterator object.\n",
    "\n",
    "To iterate over the elements of an iterator, you can use the next() method. This method returns the next value in the sequence."
   ]
  },
  {
   "cell_type": "code",
   "execution_count": 17,
   "id": "18939b79-90b8-49a3-b6a8-ace8752f710d",
   "metadata": {},
   "outputs": [
    {
     "name": "stdout",
     "output_type": "stream",
     "text": [
      "2\n",
      "4\n",
      "6\n",
      "8\n",
      "10\n"
     ]
    }
   ],
   "source": [
    "\n",
    "my_list = [2, 4, 6, 8, 10, 12, 14, 16, 18, 20]\n",
    "my_iterator = iter(my_list)\n",
    "\n",
    "\n",
    "for i in range(5):\n",
    "    value = next(my_iterator)\n",
    "    print(value)\n"
   ]
  },
  {
   "cell_type": "markdown",
   "id": "6a88860c-a926-4437-b6b6-7820b5c8c204",
   "metadata": {},
   "source": [
    "# Q4. What is a generator function in python? Why yield keyword is used? Give an example of a generator function."
   ]
  },
  {
   "cell_type": "code",
   "execution_count": 19,
   "id": "5fb2795d-b19c-4d30-81d5-63158528b0bb",
   "metadata": {},
   "outputs": [
    {
     "name": "stdout",
     "output_type": "stream",
     "text": [
      "0\n",
      "1\n",
      "2\n",
      "3\n",
      "4\n",
      "5\n",
      "6\n",
      "7\n",
      "8\n",
      "9\n"
     ]
    }
   ],
   "source": [
    "def my_generator():\n",
    "    for i in range(10):\n",
    "        yield i\n",
    "\n",
    "\n",
    "my_gen = my_generator()\n",
    "\n",
    "\n",
    "for value in my_gen:\n",
    "    print(value)\n"
   ]
  },
  {
   "cell_type": "markdown",
   "id": "a971c419-5b27-44e6-893e-87cd6f195b98",
   "metadata": {},
   "source": [
    "A generator function in Python is a special type of function that allows you to generate a sequence of values on the fly, without having to create and store the entire sequence in memory. This is useful when working with large or infinite sequences of data.\n",
    "\n",
    "A generator function is defined like a normal function, but instead of using the return keyword to return a value, it uses the yield keyword. When the generator function is called, it returns a generator object that can be used to iterate over the values generated by the function.\n",
    "\n",
    "The yield keyword is used to yield a value from the generator function. When the yield statement is executed, the function's state is saved, and the yielded value is returned to the caller. The next time the function is called, execution resumes from where it left off, and the function continues to generate values."
   ]
  },
  {
   "cell_type": "markdown",
   "id": "b098a963-8f24-4c0c-822c-a608b1597969",
   "metadata": {},
   "source": [
    "In this example, we define a generator function my_generator() that generates a sequence of numbers from 0 to 9 using a for loop and the yield keyword.\n",
    "\n",
    "We then call the my_generator() function to create a generator object my_gen.\n",
    "\n",
    "Finally, we iterate over the generated values using a for loop and print each value to the console. As we iterate over the values, the generator function is called each time, and the yield keyword returns the next value in the sequence. The generator function's state is saved between each call, allowing it to resume execution from where it left off."
   ]
  },
  {
   "cell_type": "markdown",
   "id": "24939740-09fc-429c-bec5-7a581e6fece8",
   "metadata": {},
   "source": [
    "# Q5. Create a generator function for prime numbers less than 1000. Use the next() method to print the first 20 prime numbers."
   ]
  },
  {
   "cell_type": "code",
   "execution_count": 20,
   "id": "ba8c45b0-1ef0-4aae-a56c-5683729d7b94",
   "metadata": {},
   "outputs": [
    {
     "name": "stdout",
     "output_type": "stream",
     "text": [
      "2\n",
      "3\n",
      "5\n",
      "7\n",
      "11\n",
      "13\n",
      "17\n",
      "19\n",
      "23\n",
      "29\n",
      "31\n",
      "37\n",
      "41\n",
      "43\n",
      "47\n",
      "53\n",
      "59\n",
      "61\n",
      "67\n",
      "71\n"
     ]
    }
   ],
   "source": [
    "def prime_generator():\n",
    "    # First two prime numbers\n",
    "    yield 2\n",
    "    yield 3\n",
    "\n",
    "    # Start checking for prime numbers from 5\n",
    "    num = 5\n",
    "\n",
    "    while num < 1000:\n",
    "        is_prime = True\n",
    "\n",
    "        # Check if the number is divisible by any number less than it\n",
    "        for i in range(2, num):\n",
    "            if num % i == 0:\n",
    "                is_prime = False\n",
    "                break\n",
    "\n",
    "        if is_prime:\n",
    "            yield num\n",
    "\n",
    "        num += 2\n",
    "\n",
    "# Using the generator function\n",
    "my_gen = prime_generator()\n",
    "\n",
    "# Printing the first 20 prime numbers using the next() method\n",
    "for i in range(20):\n",
    "    print(next(my_gen))\n"
   ]
  },
  {
   "cell_type": "code",
   "execution_count": null,
   "id": "3a4e8dee-d5be-49a7-897f-c9f948fb4734",
   "metadata": {},
   "outputs": [],
   "source": []
  }
 ],
 "metadata": {
  "kernelspec": {
   "display_name": "Python 3 (ipykernel)",
   "language": "python",
   "name": "python3"
  },
  "language_info": {
   "codemirror_mode": {
    "name": "ipython",
    "version": 3
   },
   "file_extension": ".py",
   "mimetype": "text/x-python",
   "name": "python",
   "nbconvert_exporter": "python",
   "pygments_lexer": "ipython3",
   "version": "3.10.8"
  }
 },
 "nbformat": 4,
 "nbformat_minor": 5
}
